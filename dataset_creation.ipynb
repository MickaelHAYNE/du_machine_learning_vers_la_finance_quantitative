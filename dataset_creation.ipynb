{
 "cells": [
  {
   "cell_type": "markdown",
   "source": [
    "# Création du dataset"
   ],
   "metadata": {}
  },
  {
   "cell_type": "markdown",
   "source": [
    "## Importation des packages"
   ],
   "metadata": {}
  },
  {
   "cell_type": "code",
   "execution_count": 4,
   "source": [
    "import warnings\r\n",
    "warnings.filterwarnings('ignore')\r\n",
    "from pathlib import Path\r\n",
    "import requests\r\n",
    "from io import BytesIO\r\n",
    "from zipfile import ZipFile, BadZipFile\r\n",
    "import numpy as np\r\n",
    "import pandas as pd\r\n",
    "import pandas_datareader.data as web\r\n",
    "from sklearn.datasets import fetch_openml\r\n",
    "pd.set_option('display.expand_frame_repr', False)"
   ],
   "outputs": [],
   "metadata": {}
  },
  {
   "cell_type": "markdown",
   "source": [
    "## Vérification des versions"
   ],
   "metadata": {}
  },
  {
   "cell_type": "code",
   "execution_count": 8,
   "source": [
    "print('Python  version {}'.format(sys.version))\r\n",
    "print('Numpy   version {}'.format(np.__version__))\r\n",
    "print('Pandas  version {}'.format(pd.__version__))"
   ],
   "outputs": [
    {
     "output_type": "stream",
     "name": "stdout",
     "text": [
      "Python  version 3.9.7 (default, Sep 16 2021, 16:59:28) [MSC v.1916 64 bit (AMD64)]\n",
      "Numpy   version 1.20.3\n",
      "Pandas  version 1.3.2\n"
     ]
    }
   ],
   "metadata": {}
  },
  {
   "cell_type": "code",
   "execution_count": null,
   "source": [],
   "outputs": [],
   "metadata": {}
  }
 ],
 "metadata": {
  "orig_nbformat": 4,
  "language_info": {
   "name": "python",
   "version": "3.9.7",
   "mimetype": "text/x-python",
   "codemirror_mode": {
    "name": "ipython",
    "version": 3
   },
   "pygments_lexer": "ipython3",
   "nbconvert_exporter": "python",
   "file_extension": ".py"
  },
  "kernelspec": {
   "name": "python3",
   "display_name": "Python 3.9.7 64-bit ('du_ml_vers_la_fq': conda)"
  },
  "interpreter": {
   "hash": "f7d8e8db6e742484ff45491fdd47813ef7e4d06b273d308d0dde7068a3c0e6c0"
  }
 },
 "nbformat": 4,
 "nbformat_minor": 2
}