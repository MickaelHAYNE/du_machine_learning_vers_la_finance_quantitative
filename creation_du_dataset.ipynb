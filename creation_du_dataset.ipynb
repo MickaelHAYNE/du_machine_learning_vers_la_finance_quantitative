{
 "cells": [
  {
   "cell_type": "markdown",
   "metadata": {},
   "source": [
    "# Création du dataset"
   ]
  },
  {
   "cell_type": "markdown",
   "metadata": {},
   "source": [
    "## Importation des packages"
   ]
  },
  {
   "cell_type": "code",
   "execution_count": 2,
   "metadata": {},
   "outputs": [],
   "source": [
    "import pandas as pd\n",
    "import pandas_datareader as pdr\n",
    "from pandas_datareader import data"
   ]
  },
  {
   "cell_type": "markdown",
   "metadata": {},
   "source": [
    "## Vérification des versions"
   ]
  },
  {
   "cell_type": "code",
   "execution_count": 5,
   "metadata": {},
   "outputs": [
    {
     "name": "stdout",
     "output_type": "stream",
     "text": [
      "Python            version 3.9.7 (default, Sep 16 2021, 16:59:28) [MSC v.1916 64 bit (AMD64)]\n",
      "Pandas            version 1.3.2\n",
      "Pandas DataReader version 0.10.0\n"
     ]
    }
   ],
   "source": [
    "print('Python            version {}'.format(sys.version))\n",
    "print('Pandas            version {}'.format(pd.__version__))\n",
    "print('Pandas DataReader version {}'.format(pdr.__version__))"
   ]
  },
  {
   "cell_type": "markdown",
   "metadata": {},
   "source": [
    "## Récupération des données "
   ]
  },
  {
   "cell_type": "markdown",
   "metadata": {},
   "source": [
    "On utilise ici le package pandas_datareader pour avoir accès aux informations quotidiennes quand aux prix des ETF et actions d'entreprises."
   ]
  },
  {
   "cell_type": "code",
   "execution_count": 6,
   "metadata": {},
   "outputs": [],
   "source": [
    "# On récupère d'abord toutes les informations sur les différents produits financiers référencés par Yahoo Finance\n",
    "all_tickers = data.get_nasdaq_symbols()\n",
    "\n",
    "# On filtre pour n'avoir que les actions (hors ETF), traitées par le NASDAQ et ne renvoyant pas d'erreur\n",
    "tickers = all_tickers[(all_tickers['Nasdaq Traded']) & (~all_tickers[\"Test Issue\"]) & (~all_tickers[\"ETF\"])]\n",
    "\n",
    "# On en extrait la liste des noms\n",
    "tickers_symbols = tickers[\"NASDAQ Symbol\"].to_list()"
   ]
  },
  {
   "cell_type": "markdown",
   "metadata": {},
   "source": [
    "On se focalise sur les entreprises avec la plus grande capitalisation boursière"
   ]
  },
  {
   "cell_type": "markdown",
   "metadata": {},
   "source": [
    "Le code suivant permet d'extraire l'ensemble des capitalisations boursière des entreprises connues de Yahoo Finance. Cependant il est très long à éxecuter et prend une heure pour aboutir."
   ]
  },
  {
   "cell_type": "code",
   "execution_count": 7,
   "metadata": {},
   "outputs": [
    {
     "data": {
      "text/html": [
       "<div>\n",
       "<style scoped>\n",
       "    .dataframe tbody tr th:only-of-type {\n",
       "        vertical-align: middle;\n",
       "    }\n",
       "\n",
       "    .dataframe tbody tr th {\n",
       "        vertical-align: top;\n",
       "    }\n",
       "\n",
       "    .dataframe thead th {\n",
       "        text-align: right;\n",
       "    }\n",
       "</style>\n",
       "<table border=\"1\" class=\"dataframe\">\n",
       "  <thead>\n",
       "    <tr style=\"text-align: right;\">\n",
       "      <th></th>\n",
       "      <th>marketCap</th>\n",
       "    </tr>\n",
       "  </thead>\n",
       "  <tbody>\n",
       "    <tr>\n",
       "      <th>A</th>\n",
       "      <td>48913985536</td>\n",
       "    </tr>\n",
       "  </tbody>\n",
       "</table>\n",
       "</div>"
      ],
      "text/plain": [
       "     marketCap\n",
       "A  48913985536"
      ]
     },
     "execution_count": 7,
     "metadata": {},
     "output_type": "execute_result"
    }
   ],
   "source": [
    "market_cap = data.get_quote_yahoo(tickers_symbols[0])[[\"marketCap\"]]\n",
    "for ticker in tickers_symbols[1:] :\n",
    "    try :\n",
    "        market_cap = market_cap.append(data.get_quote_yahoo(ticker)[[\"marketCap\"]])\n",
    "    except :\n",
    "        pass\n",
    "market_cap"
   ]
  },
  {
   "cell_type": "markdown",
   "metadata": {},
   "source": [
    "## Sauvegarde du fichier en local"
   ]
  },
  {
   "cell_type": "code",
   "execution_count": 14,
   "metadata": {},
   "outputs": [],
   "source": [
    "market_cap.to_csv(\"data/market_cap.csv\")"
   ]
  },
  {
   "cell_type": "code",
   "execution_count": null,
   "metadata": {},
   "outputs": [],
   "source": []
  }
 ],
 "metadata": {
  "interpreter": {
   "hash": "f7d8e8db6e742484ff45491fdd47813ef7e4d06b273d308d0dde7068a3c0e6c0"
  },
  "kernelspec": {
   "display_name": "Python 3.9.7 64-bit ('du_ml_vers_la_fq': conda)",
   "name": "python3"
  },
  "language_info": {
   "codemirror_mode": {
    "name": "ipython",
    "version": 3
   },
   "file_extension": ".py",
   "mimetype": "text/x-python",
   "name": "python",
   "nbconvert_exporter": "python",
   "pygments_lexer": "ipython3",
   "version": "3.9.7"
  },
  "orig_nbformat": 4
 },
 "nbformat": 4,
 "nbformat_minor": 2
}
